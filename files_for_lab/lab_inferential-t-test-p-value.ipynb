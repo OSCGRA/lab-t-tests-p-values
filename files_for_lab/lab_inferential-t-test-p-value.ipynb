{
 "cells": [
  {
   "cell_type": "markdown",
   "id": "84e6f430",
   "metadata": {},
   "source": [
    "![logo_ironhack_blue 7](https://user-images.githubusercontent.com/23629340/40541063-a07a0a8a-601a-11e8-91b5-2f13e4e6b441.png)\n",
    "\n",
    "# Lab | Inferential statistics - T-test & P-value\n",
    "\n",
    "### Instructions\n",
    "\n",
    "1. We will have another simple example on two sample t test (pooled- when the variances are equal). But this time this is a one sided t-test\n",
    "\n",
    "In a packing plant, a machine packs cartons with jars. It is supposed that a new machine will pack faster on the average than the machine currently used. To test that hypothesis, the times it takes each machine to pack ten cartons are recorded. The results, in seconds, are shown in the tables in the file `files_for_lab/machine.txt`.\n",
    "Assume that there is sufficient evidence to conduct the t test, does the data provide sufficient evidence to show if one machine is better than the other\n",
    "\n",
    "2. An additional problem (not mandatory): In this case we can't assume that the population variances are equal. Hence in this case we cannot pool the variances.\n",
    "   Independent random samples of 17 sophomores and 13 juniors attending a large university yield the following data on grade point averages. Data is provided in the file `files_for_lab/student_gpa.txt`.\n",
    "   At the 5% significance level, do the data provide sufficient evidence to conclude that the mean GPAs of sophomores and juniors at the university differ?\n",
    "\n",
    "   Test statistics can be calculated as: [link to the image - Test statistics calculation for Unpooled Variance Case](https://education-team-2020.s3-eu-west-1.amazonaws.com/data-analytics/7.04/7.04-unpooled_variances.png)\n",
    "\n",
    "   Degrees of freedom is `(n1-1)+(n2-1)`.\n"
   ]
  },
  {
   "cell_type": "code",
   "execution_count": 1,
   "id": "2dabe7a9",
   "metadata": {},
   "outputs": [],
   "source": [
    "import pandas as pd # manipulación de datos\n",
    "import numpy as np # operaciones matemáticos\n",
    "import matplotlib.pyplot as plt # visualización\n",
    "import scipy.stats as st # estadística\n",
    "import chardet"
   ]
  },
  {
   "cell_type": "code",
   "execution_count": 2,
   "id": "458fde66",
   "metadata": {},
   "outputs": [],
   "source": [
    "file = 'machine.txt'\n",
    "\n",
    "with open(file, 'rb') as f:\n",
    "    result = chardet.detect(f.read())\n",
    "    encoding_detected = result['encoding']\n",
    "\n",
    "df = pd.read_csv(file, delimiter='\\t', encoding=encoding_detected)\n"
   ]
  },
  {
   "cell_type": "code",
   "execution_count": 3,
   "id": "eb70290d",
   "metadata": {},
   "outputs": [
    {
     "data": {
      "text/plain": [
       "Index(['New machine', '    Old machine'], dtype='object')"
      ]
     },
     "execution_count": 3,
     "metadata": {},
     "output_type": "execute_result"
    }
   ],
   "source": [
    "df.columns"
   ]
  },
  {
   "cell_type": "markdown",
   "id": "6d3eee42",
   "metadata": {},
   "source": [
    "Ho: New machine is faster than old machine.(by mean)"
   ]
  },
  {
   "cell_type": "code",
   "execution_count": 4,
   "id": "19886e5d",
   "metadata": {},
   "outputs": [
    {
     "data": {
      "text/plain": [
       "(-3.3972307061176026, 0.0016055712503872579)"
      ]
     },
     "execution_count": 4,
     "metadata": {},
     "output_type": "execute_result"
    }
   ],
   "source": [
    "t_statistic, p_value = st.ttest_ind(df[\"New machine\"],df[\"    Old machine\"], alternative='less')\n",
    "t_statistic, p_value"
   ]
  },
  {
   "cell_type": "code",
   "execution_count": 5,
   "id": "538f2f30",
   "metadata": {},
   "outputs": [
    {
     "name": "stdout",
     "output_type": "stream",
     "text": [
      "Reject null hipothesis. The new machine is faster than old machine\n"
     ]
    }
   ],
   "source": [
    "if t_statistic < 0 and  p_value < 0.05:\n",
    "    print(\"Reject null hipothesis. The new machine is faster than old machine\")\n",
    "else:\n",
    "    print(\"We cannot reject null hipothesis.\")\n",
    "          "
   ]
  },
  {
   "cell_type": "code",
   "execution_count": 6,
   "id": "45e03737",
   "metadata": {},
   "outputs": [
    {
     "data": {
      "text/html": [
       "<div>\n",
       "<style scoped>\n",
       "    .dataframe tbody tr th:only-of-type {\n",
       "        vertical-align: middle;\n",
       "    }\n",
       "\n",
       "    .dataframe tbody tr th {\n",
       "        vertical-align: top;\n",
       "    }\n",
       "\n",
       "    .dataframe thead th {\n",
       "        text-align: right;\n",
       "    }\n",
       "</style>\n",
       "<table border=\"1\" class=\"dataframe\">\n",
       "  <thead>\n",
       "    <tr style=\"text-align: right;\">\n",
       "      <th></th>\n",
       "      <th>Sophomores</th>\n",
       "      <th>Juniors</th>\n",
       "    </tr>\n",
       "  </thead>\n",
       "  <tbody>\n",
       "    <tr>\n",
       "      <th>0</th>\n",
       "      <td>3.04</td>\n",
       "      <td>2.56</td>\n",
       "    </tr>\n",
       "    <tr>\n",
       "      <th>1</th>\n",
       "      <td>1.71</td>\n",
       "      <td>2.77</td>\n",
       "    </tr>\n",
       "    <tr>\n",
       "      <th>2</th>\n",
       "      <td>3.30</td>\n",
       "      <td>2.70</td>\n",
       "    </tr>\n",
       "    <tr>\n",
       "      <th>3</th>\n",
       "      <td>2.88</td>\n",
       "      <td>3.00</td>\n",
       "    </tr>\n",
       "    <tr>\n",
       "      <th>4</th>\n",
       "      <td>2.11</td>\n",
       "      <td>2.98</td>\n",
       "    </tr>\n",
       "    <tr>\n",
       "      <th>5</th>\n",
       "      <td>2.60</td>\n",
       "      <td>3.47</td>\n",
       "    </tr>\n",
       "    <tr>\n",
       "      <th>6</th>\n",
       "      <td>2.92</td>\n",
       "      <td>3.26</td>\n",
       "    </tr>\n",
       "    <tr>\n",
       "      <th>7</th>\n",
       "      <td>3.60</td>\n",
       "      <td>3.20</td>\n",
       "    </tr>\n",
       "    <tr>\n",
       "      <th>8</th>\n",
       "      <td>2.28</td>\n",
       "      <td>3.19</td>\n",
       "    </tr>\n",
       "    <tr>\n",
       "      <th>9</th>\n",
       "      <td>2.82</td>\n",
       "      <td>2.65</td>\n",
       "    </tr>\n",
       "    <tr>\n",
       "      <th>10</th>\n",
       "      <td>3.03</td>\n",
       "      <td>3.00</td>\n",
       "    </tr>\n",
       "    <tr>\n",
       "      <th>11</th>\n",
       "      <td>3.13</td>\n",
       "      <td>3.39</td>\n",
       "    </tr>\n",
       "    <tr>\n",
       "      <th>12</th>\n",
       "      <td>2.86</td>\n",
       "      <td>2.58</td>\n",
       "    </tr>\n",
       "    <tr>\n",
       "      <th>13</th>\n",
       "      <td>3.49</td>\n",
       "      <td>NaN</td>\n",
       "    </tr>\n",
       "    <tr>\n",
       "      <th>14</th>\n",
       "      <td>3.11</td>\n",
       "      <td>NaN</td>\n",
       "    </tr>\n",
       "    <tr>\n",
       "      <th>15</th>\n",
       "      <td>2.13</td>\n",
       "      <td>NaN</td>\n",
       "    </tr>\n",
       "    <tr>\n",
       "      <th>16</th>\n",
       "      <td>3.27</td>\n",
       "      <td>NaN</td>\n",
       "    </tr>\n",
       "  </tbody>\n",
       "</table>\n",
       "</div>"
      ],
      "text/plain": [
       "    Sophomores    Juniors\n",
       "0         3.04       2.56\n",
       "1         1.71       2.77\n",
       "2         3.30       2.70\n",
       "3         2.88       3.00\n",
       "4         2.11       2.98\n",
       "5         2.60       3.47\n",
       "6         2.92       3.26\n",
       "7         3.60       3.20\n",
       "8         2.28       3.19\n",
       "9         2.82       2.65\n",
       "10        3.03       3.00\n",
       "11        3.13       3.39\n",
       "12        2.86       2.58\n",
       "13        3.49        NaN\n",
       "14        3.11        NaN\n",
       "15        2.13        NaN\n",
       "16        3.27        NaN"
      ]
     },
     "execution_count": 6,
     "metadata": {},
     "output_type": "execute_result"
    }
   ],
   "source": [
    "file2 = 'student_gpa.txt'\n",
    "with open(file2, 'rb') as f:\n",
    "    result = chardet.detect(f.read())\n",
    "    codificacion_detectada = result['encoding']\n",
    "df2 = pd.read_csv(file2, delimiter='\\t', encoding=codificacion_detectada)\n",
    "df2"
   ]
  },
  {
   "cell_type": "code",
   "execution_count": 7,
   "id": "a0ec1b87",
   "metadata": {
    "collapsed": true
   },
   "outputs": [
    {
     "data": {
      "text/plain": [
       "0     3.04\n",
       "1     1.71\n",
       "2     3.30\n",
       "3     2.88\n",
       "4     2.11\n",
       "5     2.60\n",
       "6     2.92\n",
       "7     3.60\n",
       "8     2.28\n",
       "9     2.82\n",
       "10    3.03\n",
       "11    3.13\n",
       "12    2.86\n",
       "13    3.49\n",
       "14    3.11\n",
       "15    2.13\n",
       "16    3.27\n",
       "Name: Sophomores, dtype: float64"
      ]
     },
     "execution_count": 7,
     "metadata": {},
     "output_type": "execute_result"
    }
   ],
   "source": [
    "df2[\"Sophomores\"]"
   ]
  },
  {
   "cell_type": "code",
   "execution_count": 12,
   "id": "b58e8fb5",
   "metadata": {},
   "outputs": [
    {
     "data": {
      "text/plain": [
       "(-0.9231495630900278, 0.18210903376742854)"
      ]
     },
     "execution_count": 12,
     "metadata": {},
     "output_type": "execute_result"
    }
   ],
   "source": [
    "t_statistic, p_value = st.ttest_ind(df2[\"Sophomores\"], df2['  Juniors'], equal_var=False, nan_policy =\"omit\", alternative=\"less\")\n",
    "t_statistic, p_value"
   ]
  },
  {
   "cell_type": "code",
   "execution_count": 9,
   "id": "6189168b",
   "metadata": {},
   "outputs": [
    {
     "data": {
      "text/plain": [
       "0.3642180675348571"
      ]
     },
     "execution_count": 9,
     "metadata": {},
     "output_type": "execute_result"
    }
   ],
   "source": [
    "p_value"
   ]
  },
  {
   "cell_type": "code",
   "execution_count": 13,
   "id": "f8ba4261",
   "metadata": {},
   "outputs": [],
   "source": [
    "alpha = 0.05\n",
    "dof = (len(df2[\"Sophomores\"]) - 1) + (len(df2['  Juniors']) - 1)  # Degrees of Freedom (n1-1)+(n2-1)"
   ]
  },
  {
   "cell_type": "code",
   "execution_count": 17,
   "id": "f66de375",
   "metadata": {},
   "outputs": [
    {
     "data": {
      "text/plain": [
       "2.036933343460101"
      ]
     },
     "execution_count": 17,
     "metadata": {},
     "output_type": "execute_result"
    }
   ],
   "source": [
    "t_critical_value = st.t.ppf(1 - alpha / 2, dof)\n",
    "t_critical_value"
   ]
  },
  {
   "cell_type": "code",
   "execution_count": 11,
   "id": "243efa82",
   "metadata": {},
   "outputs": [
    {
     "name": "stdout",
     "output_type": "stream",
     "text": [
      "Fail to reject the null hypothesis\n"
     ]
    }
   ],
   "source": [
    "if p_value < alpha:\n",
    "    print(\"Reject the null hypothesis. The current annual salary is higher than 86000$.\")\n",
    "else:\n",
    "    print(\"Fail to reject the null hypothesis\")"
   ]
  },
  {
   "cell_type": "code",
   "execution_count": 22,
   "id": "01cf81de",
   "metadata": {},
   "outputs": [
    {
     "name": "stdout",
     "output_type": "stream",
     "text": [
      "Fail to reject the null hypothesis, without conditions\n"
     ]
    }
   ],
   "source": [
    "if abs(t_statistic) > t_critical_value:\n",
    "    print(\"We reject the null hypothesis, but in this sample Sophomeres has less average grades than Juniors\")\n",
    "else:\n",
    "    print(\"Fail to reject the null hypothesis, without conditions\")"
   ]
  },
  {
   "cell_type": "code",
   "execution_count": null,
   "id": "6cce1dd1",
   "metadata": {},
   "outputs": [],
   "source": []
  }
 ],
 "metadata": {
  "kernelspec": {
   "display_name": "Python 3 (ipykernel)",
   "language": "python",
   "name": "python3"
  },
  "language_info": {
   "codemirror_mode": {
    "name": "ipython",
    "version": 3
   },
   "file_extension": ".py",
   "mimetype": "text/x-python",
   "name": "python",
   "nbconvert_exporter": "python",
   "pygments_lexer": "ipython3",
   "version": "3.11.5"
  }
 },
 "nbformat": 4,
 "nbformat_minor": 5
}
